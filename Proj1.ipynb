{
 "cells": [
  {
   "cell_type": "code",
   "execution_count": 1,
   "metadata": {},
   "outputs": [],
   "source": [
    "import numpy as np\n",
    "import pandas as pd\n",
    "import seaborn as sns\n",
    "import matplotlib.pyplot as plt\n",
    "import sklearn.metrics\n",
    "# import string\n",
    "from sklearn.preprocessing import MultiLabelBinarizer, MinMaxScaler\n",
    "from sklearn.preprocessing import OneHotEncoder\n",
    "from sklearn.linear_model import LogisticRegression\n",
    "from sklearn.ensemble import RandomForestRegressor, GradientBoostingRegressor, AdaBoostRegressor\n",
    "from sklearn.model_selection import train_test_split, GridSearchCV\n",
    "from datetime import date\n",
    "from datetime import datetime\n",
    "from sklearn.preprocessing import StandardScaler,Imputer,RobustScaler"
   ]
  },
  {
   "cell_type": "code",
   "execution_count": 2,
   "metadata": {},
   "outputs": [],
   "source": [
    "listings_Boston = pd.read_csv(\"listings_Boston.csv\")\n",
    "listings_Seattle = pd.read_csv(\"listings_Seattle.csv\")\n",
    "cb = pd.read_csv(\"calendar_Boston.csv\")\n",
    "cs = pd.read_csv(\"calendar_Seattle.csv\")\n",
    "rb = pd.read_csv(\"reviews_Boston.csv\")\n",
    "rs = pd.read_csv(\"reviews_Seattle.csv\")"
   ]
  },
  {
   "cell_type": "code",
   "execution_count": 3,
   "metadata": {},
   "outputs": [],
   "source": [
    "def preprocessing(listing):\n",
    "    null_count = listing.isnull().sum()\n",
    "#     print(null_count.sort_values(ascending=False))\n",
    "\n",
    "    null_per = null_count / len(listing) * 100\n",
    "#     print(null_per.sort_values(ascending=False))\n",
    "\n",
    "    drop_index = null_per[null_per > 50].index\n",
    "    listing.drop(drop_index, axis = 1, inplace = True)\n",
    "    plt.figure(figsize=(15,5))\n",
    "    plt.title('Distribution of the Ratio of Missing Data in Each Column')\n",
    "    plt.hist(null_per, bins = np.linspace(10,100,50))\n",
    "    plt.xlabel('Percentage of Missing Data')\n",
    "    plt.ylabel('Count')\n",
    "    plt.show()\n",
    "\n",
    "#     d={}\n",
    "#     for col in listing.columns:\n",
    "#         data_type = listing[col].dtype\n",
    "#         if data_type not in d:\n",
    "#             d[data_type] = 1\n",
    "#         else:\n",
    "#             d[data_type] += 1\n",
    "\n",
    "#     print(d)\n",
    "\n",
    "    if type(listing.price[0]) == str:\n",
    "        listing.price = listing.price.apply(lambda x: float(x[1:].replace(',', '')))\n",
    "#         print(listing.price.describe())\n",
    "\n",
    "    drop_price_index = listing[listing.price > 500].index\n",
    "    listing.drop(drop_price_index, axis = 0, inplace = True)\n",
    "    listing.drop(['space', 'neighborhood_overview', 'transit','listing_url', 'scrape_id', 'last_scraped', 'name', 'summary',\n",
    "                  'description', 'experiences_offered', 'picture_url', 'host_url', 'host_name', 'host_thumbnail_url',\n",
    "                  'host_about', 'host_neighbourhood','host_picture_url', 'host_location', 'street', 'city', 'state', \n",
    "                  'smart_location', 'country_code', 'country', 'first_review', 'last_review', 'id', 'host_verifications',\n",
    "                  'host_id', 'neighbourhood', 'calendar_last_scraped', 'market'], axis = 1, inplace = True)\n",
    "\n",
    "    process_list = listing\n",
    "    amenities = process_list['amenities'].map(lambda d: [amenity.replace('\"', \"\").replace(\"{\", \"\").replace(\"}\", \"\") for amenity in d.split(\",\")])\n",
    "    process_list['amenities'] = amenities\n",
    "    possible_amenities = set([item for sublist in amenities for item in sublist])\n",
    "    possible_amenities = list(possible_amenities)\n",
    "    del possible_amenities[1]\n",
    "    print(\"There are {} amenities in total.\".format(len(possible_amenities)))\n",
    "    mlb = MultiLabelBinarizer()\n",
    "    amenities_result = pd.DataFrame(mlb.fit_transform(process_list['amenities']),columns=mlb.classes_, index=process_list.index)\n",
    "    process_list2 = pd.concat([process_list, amenities_result], axis=1, sort = False)\n",
    "    process_list2.drop(['amenities'], axis = 1, inplace = True)\n",
    "    \n",
    "    # Preprocess some other columns, convert into numerical value\n",
    "    process_list2['cleaning_fee'] = process_list2['cleaning_fee'].replace( '[$,]','', regex=True ).astype(float)\n",
    "    process_list2['extra_people'] = process_list2['extra_people'].replace( '[$,]','', regex=True ).astype(float)\n",
    "    process_list2['host_response_rate'] = process_list2['host_response_rate'].replace( '%','', regex=True ).astype(float)\n",
    "\n",
    "\n",
    "    # Fill missing data\n",
    "    process_list2.bathrooms.fillna(process_list2.groupby(\"bedrooms\")[\"bathrooms\"].transform(\"median\"), inplace=True)\n",
    "    process_list2.beds.fillna(process_list2.groupby(\"bedrooms\")[\"beds\"].transform(\"median\"), inplace=True)\n",
    "    process_list2.bedrooms.fillna(process_list2.groupby(\"bathrooms\")[\"bedrooms\"].transform(\"median\"), inplace=True)\n",
    "    process_list2.cleaning_fee.fillna(0, inplace = True)\n",
    "    fillmean_list = ['review_scores_rating', 'review_scores_accuracy', 'review_scores_cleanliness', 'review_scores_checkin',\n",
    "                     'review_scores_communication', 'review_scores_location', 'review_scores_value', 'reviews_per_month']\n",
    "\n",
    "    for col in fillmean_list:\n",
    "        process_list2[col].fillna(process_list[col].mean(), inplace = True)\n",
    "    process_list2['host_response_rate'].fillna(process_list2.host_response_rate.mean(), inplace = True)   \n",
    "    process_list2.zipcode.fillna(listing.groupby('neighbourhood_cleansed')['zipcode'].apply(\n",
    "        lambda x: x.fillna(x.value_counts().index[0])), inplace = True)\n",
    "\n",
    "    # One-hot encoding the whole dataframe\n",
    "    process_list2 = pd.get_dummies(process_list2)\n",
    "    price_raw = process_list2['price']\n",
    "    process_list2 = process_list2.drop('price', axis = 1)\n",
    "\n",
    "     # Use MinMax to process some of the numerical data\n",
    "    scaler = MinMaxScaler()\n",
    "    numerical = ['latitude', 'longitude', 'review_scores_rating']\n",
    "    process_list2[numerical] = scaler.fit_transform(process_list2[numerical])\n",
    "\n",
    "    return process_list2, price_raw, possible_amenities"
   ]
  },
  {
   "cell_type": "code",
   "execution_count": 4,
   "metadata": {},
   "outputs": [],
   "source": [
    "def training(df, price, amenities):\n",
    "#     df= pd.DataFrame(process_list2)\n",
    "#     price=price_raw\n",
    "#     amenities=possible_amenities\n",
    "#     print(df.shape)\n",
    "#     print(price.shape)\n",
    "    X_train, X_test, y_train, y_test = train_test_split(df, price, test_size = 0.2, random_state = 0)\n",
    "    print(\"Training set has {} samples.\".format(X_train.shape[0]))\n",
    "    print(\"Testing set has {} samples.\".format(X_test.shape[0]))\n",
    "    param_grid = {'n_estimators': [400], \n",
    "                      'learning_rate': [0.05],\n",
    "                      'max_depth': [10],\n",
    "                      'min_samples_split': [5],\n",
    "                      'subsample': [0.7]\n",
    "                     }\n",
    "    forest_reg = GradientBoostingRegressor(random_state = 42)\n",
    "    grid_search = GridSearchCV(forest_reg, param_grid, cv=5, scoring = 'neg_mean_squared_error', return_train_score=True)\n",
    "    grid_search.fit(X_train, y_train)\n",
    "    print(grid_search.best_params_)\n",
    "    cvres = grid_search.cv_results_\n",
    "    for mean_score, params in zip(cvres[\"mean_test_score\"], cvres[\"params\"]):\n",
    "        print(np.sqrt(-mean_score), params)\n",
    "    y_pred = grid_search.predict(X_test)\n",
    "    print(\"Error Score on Test Data: {}.\".format(np.sqrt(sklearn.metrics.mean_squared_error(y_test, y_pred))))\n",
    "    # Plot Featrue Importance\n",
    "    feature_importances = grid_search.best_estimator_.feature_importances_\n",
    "    features = sorted(zip(feature_importances, df.columns), reverse=True)\n",
    "    attribute = []\n",
    "    coefficient = []\n",
    "    for feature in features:\n",
    "        attribute.append(feature[1]) \n",
    "        coefficient.append(feature[0])\n",
    "    plt.figure(figsize=(12,4))\n",
    "    plt.bar(attribute[:20], height=coefficient[:20])\n",
    "    plt.xticks(rotation=90)\n",
    "    plt.xlabel('feature')\n",
    "    plt.ylabel('feature importance')\n",
    "    plt.title('feature importance for the Top 20 features')\n",
    "    plt.show()\n",
    "\n",
    "    # Plot Amenity importance\n",
    "    amenity= []\n",
    "    amn_coef = []\n",
    "    for feature in features:\n",
    "        if feature[1] in amenities:\n",
    "            amenity.append(feature[1])\n",
    "            amn_coef.append(feature[0])\n",
    "    plt.figure(figsize=(8,4))\n",
    "    plt.bar(amenity[:10], height=amn_coef[:10])\n",
    "    plt.xticks(rotation = 90)\n",
    "    plt.xlabel('amenity')\n",
    "    plt.ylabel('amenity importance')\n",
    "    plt.title('feature importance for the Top 10 amenities')\n",
    "    plt.show()"
   ]
  },
  {
   "cell_type": "code",
   "execution_count": 5,
   "metadata": {},
   "outputs": [
    {
     "data": {
      "image/png": "[encoded data removed]",
      "text/plain": [
       "<Figure size 1080x360 with 1 Axes>"
      ]
     },
     "metadata": {},
     "output_type": "display_data"
    },
    {
     "name": "stdout",
     "output_type": "stream",
     "text": [
      "There are 45 amenities in total.\n"
     ]
    },
    {
     "data": {
      "image/png": "[encoded data removed]",
      "text/plain": [
       "<Figure size 1080x360 with 1 Axes>"
      ]
     },
     "metadata": {},
     "output_type": "display_data"
    },
    {
     "name": "stdout",
     "output_type": "stream",
     "text": [
      "There are 41 amenities in total.\n"
     ]
    }
   ],
   "source": [
    "Boston, price_Boston, possible_amenities_Boston = preprocessing(listings_Boston)\n",
    "Seattle, dprice_Seattle, possible_amenities_Seattle = preprocessing(listings_Seattle)"
   ]
  },
  {
   "cell_type": "code",
   "execution_count": null,
   "metadata": {},
   "outputs": [
    {
     "name": "stdout",
     "output_type": "stream",
     "text": [
      "Training set has 2815 samples.\n",
      "Testing set has 704 samples.\n"
     ]
    }
   ],
   "source": [
    "training(Boston, price_Boston, possible_amenities_Boston)\n",
    "training(Seattle, price_Seattle, possible_amenities_Seattle)"
   ]
  }
 ],
 "metadata": {
  "kernelspec": {
   "display_name": "Python 3",
   "language": "python",
   "name": "python3"
  },
  "language_info": {
   "codemirror_mode": {
    "name": "ipython",
    "version": 3
   },
   "file_extension": ".py",
   "mimetype": "text/x-python",
   "name": "python",
   "nbconvert_exporter": "python",
   "pygments_lexer": "ipython3",
   "version": "3.6.5"
  }
 },
 "nbformat": 4,
 "nbformat_minor": 2
}
